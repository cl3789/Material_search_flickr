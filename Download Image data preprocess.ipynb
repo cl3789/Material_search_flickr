{
 "cells": [
  {
   "cell_type": "code",
   "execution_count": 2,
   "id": "3defae40",
   "metadata": {},
   "outputs": [],
   "source": [
    "import os\n",
    "from os import listdir,makedirs\n",
    "from os.path import isfile,join\n",
    "import shutil\n",
    "\n",
    "import cv2\n",
    "import numpy as np\n",
    "\n",
    "import matplotlib.pyplot as plt\n",
    "\n",
    "import fnmatch"
   ]
  },
  {
   "cell_type": "code",
   "execution_count": 3,
   "id": "749c59a4",
   "metadata": {},
   "outputs": [],
   "source": [
    "def crop_center_resize(img, dim):\n",
    "    \"\"\"Crop the centered image region and resize. Only use this for refined good images.\"\"\"\n",
    "\n",
    "    width, height = img.shape[1], img.shape[0]\n",
    "\n",
    "    crop_width = min(width, height)\n",
    "    crop_height = crop_width\n",
    "\n",
    "    mid_x, mid_y = int(width/2), int(height/2)\n",
    "    cw2, ch2 = int(crop_width/2), int(crop_height/2) \n",
    "\n",
    "    crop_img = img[mid_y-ch2:mid_y+ch2, mid_x-cw2:mid_x+cw2]\n",
    "    \n",
    "    resized = cv2.resize(crop_img, dim, interpolation = cv2.INTER_AREA)\n",
    "    \n",
    "    return resized\n",
    "    "
   ]
  },
  {
   "cell_type": "code",
   "execution_count": 4,
   "id": "7c6cfa78",
   "metadata": {},
   "outputs": [],
   "source": [
    "def move_images(path, dest_path):\n",
    "    \"\"\"Move images from general path to batch folder\"\"\"\n",
    "    \n",
    "    files = list(filter(lambda f: isfile(join(path,f)), listdir(path)))\n",
    "    \n",
    "    isExist = os.path.exists(dest_path)\n",
    "\n",
    "    if not isExist:\n",
    "        os.makedirs(dest_path)\n",
    "        \n",
    "    for image in files:\n",
    "        if fnmatch.fnmatch(image, '*.jpg'):\n",
    "            image_path = os.path.join(path, image)\n",
    "            shutil.move(image_path, dest_path)\n",
    "\n"
   ]
  },
  {
   "cell_type": "code",
   "execution_count": 5,
   "id": "db23cf7a",
   "metadata": {},
   "outputs": [],
   "source": [
    "def move_new_image(path_with_new_img, refined_img_path, dest_path):\n",
    "    \"\"\"Move newly download images to folder of refined images e.g. 'soap_refined_batch' \"\"\"\n",
    "    \n",
    "    # all_files_with_new is larger\n",
    "    all_files_with_new = list(filter(lambda f: isfile(join(path_with_new_img,f)), listdir(path_with_new_img)))\n",
    "    \n",
    "    # refine_img is smaller \n",
    "    refine_img = []\n",
    "    for root, dirs, files in os.walk(refined_img_path):  # replace the . with your starting directory\n",
    "        for file in files:\n",
    "            if fnmatch.fnmatch(file, '*.jpg'):\n",
    "                path_file = os.path.join(root,file)\n",
    "                refine_img.append(file)\n",
    "\n",
    "    diff = list(set(all_files_with_new) - set(refine_img))\n",
    "    diff_path = [path_with_new_img + x for x in diff]\n",
    "    \n",
    "    for diff_image in diff_path:\n",
    "        shutil.move(diff_image, dest_path)\n",
    "    "
   ]
  },
  {
   "cell_type": "markdown",
   "id": "f4d0a896",
   "metadata": {},
   "source": [
    "# Move newly downloaded images for one new batch"
   ]
  },
  {
   "cell_type": "markdown",
   "id": "ed07a187",
   "metadata": {},
   "source": [
    "step 1. Run flickr_scraper.py to download the image by \"keyword\" searching.\n",
    "You might see these errors when running this script:\n",
    "a. requests.exceptions.ConnectionError: ('Connection aborted.', ConnectionResetError(54, 'Connection reset by peer'))\n",
    "This is okay, it still downloads many images.\n",
    "\n",
    "b. script does not terminate \n",
    "You then have to force quite running. When this occurs, it still downloads most images.\n",
    "\n",
    "c. You might also see this:\n",
    "7/10 error...\n",
    "It's has been downloaded for this keyword\n",
    "\n",
    "This is because I modify the orginal code, to skip duplicates, and those images in the folder 'soap_refined_batch' (where I save the good images)"
   ]
  },
  {
   "cell_type": "markdown",
   "id": "d8fdc359",
   "metadata": {},
   "source": [
    "step 2. Run function 'move_new_image' to copy the newly downloaded images to folder 'soap_refined_batch'."
   ]
  },
  {
   "cell_type": "code",
   "execution_count": 7,
   "id": "3b55077b",
   "metadata": {},
   "outputs": [
    {
     "name": "stdout",
     "output_type": "stream",
     "text": [
      "/Users/chenxiliao/Dropbox/Projects/Search_Google_img/flickr_scraper/images/soap_cube/\n"
     ]
    }
   ],
   "source": [
    "###### example\n",
    "# Please change these 3 path accordingly\n",
    "keyword_folder = \"soap_cube\"\n",
    "download_path_by_keyword = '/Users/chenxiliao/Dropbox/Projects/Search_Google_img/flickr_scraper/images/' + keyword_folder + '/'\n",
    "print(download_path_by_keyword)\n",
    "existing_img_path = '/Users/chenxiliao/Dropbox/Projects/Search_Google_img/flickr_scraper/images/soap_refined_batch/'\n",
    "destination_path = '/Users/chenxiliao/Dropbox/Projects/Search_Google_img/flickr_scraper/images/soap_refined_batch/'\n",
    "\n",
    "\n",
    "move_new_image(download_path_by_keyword,\n",
    "               existing_img_path,\n",
    "               destination_path)"
   ]
  },
  {
   "cell_type": "markdown",
   "id": "b86708f2",
   "metadata": {},
   "source": [
    "step 3. Clean images in folder 'soap_refined_batch'. Move unwanted images to folder 'bad_sample'"
   ]
  },
  {
   "cell_type": "markdown",
   "id": "aae849a7",
   "metadata": {},
   "source": [
    "step 4. Move filtered newly downloaded images to folder 'batch_num' (n) in folder 'soap_refined_batch'."
   ]
  },
  {
   "cell_type": "code",
   "execution_count": 9,
   "id": "45fba1e3",
   "metadata": {},
   "outputs": [],
   "source": [
    "###### example\n",
    "#Please change 'refined_img_batch_path' accordingly\n",
    "new_batch = \"batch3\"\n",
    "refined_img_batch_path = '/Users/chenxiliao/Dropbox/Projects/Search_Google_img/flickr_scraper/images/soap_refined_batch/' + new_batch\n",
    "move_images(existing_img_path ,\n",
    "          refined_img_batch_path)"
   ]
  },
  {
   "cell_type": "markdown",
   "id": "ad23fbdb",
   "metadata": {},
   "source": [
    "# Crop center and Resize images for one batch\n",
    "This part is unfinished. Do not worry about center and resize images in batch folders at this moment."
   ]
  },
  {
   "cell_type": "markdown",
   "id": "939af8f2",
   "metadata": {},
   "source": [
    "path ='/Users/chenxiliao/Dropbox/Projects/Search_Google_img/flickr_scraper/images/soap_refined_batch/batch1' # Source Folder\n",
    "files = list(filter(lambda f: isfile(join(path,f)), listdir(path)))"
   ]
  },
  {
   "cell_type": "markdown",
   "id": "0ba560d6",
   "metadata": {},
   "source": [
    "dstpath = '/Users/chenxiliao/Dropbox/Projects/Search_Google_img/flickr_scraper/images/soap_resize/' # Destination Folder\n",
    "\n",
    "try:\n",
    "    makedirs(dstpath)\n",
    "except:\n",
    "    print (\"Directory already exist, images will be written in same folder\")"
   ]
  },
  {
   "cell_type": "markdown",
   "id": "6e22658c",
   "metadata": {},
   "source": [
    "for image in files:\n",
    "    if fnmatch.fnmatch(image, '*.jpg'):\n",
    "        print(image)\n",
    "        img = cv2.imread(os.path.join(path,image))\n",
    "        resized = crop_center_resize(img, (512,512))\n",
    "        dstPath_img = join(dstpath,image)\n",
    "        cv2.imwrite(dstPath_img,resized)"
   ]
  },
  {
   "cell_type": "code",
   "execution_count": null,
   "id": "9fe7d530",
   "metadata": {},
   "outputs": [],
   "source": []
  }
 ],
 "metadata": {
  "kernelspec": {
   "display_name": "Python 3",
   "language": "python",
   "name": "python3"
  },
  "language_info": {
   "codemirror_mode": {
    "name": "ipython",
    "version": 3
   },
   "file_extension": ".py",
   "mimetype": "text/x-python",
   "name": "python",
   "nbconvert_exporter": "python",
   "pygments_lexer": "ipython3",
   "version": "3.8.8"
  }
 },
 "nbformat": 4,
 "nbformat_minor": 5
}
